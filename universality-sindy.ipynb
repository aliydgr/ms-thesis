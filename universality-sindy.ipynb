{
 "cells": [
  {
   "cell_type": "code",
   "execution_count": null,
   "metadata": {},
   "outputs": [],
   "source": [
    "import numpy as np\n",
    "import matplotlib.pyplot as plt"
   ]
  },
  {
   "cell_type": "markdown",
   "metadata": {},
   "source": [
    "## 1. Graph"
   ]
  },
  {
   "cell_type": "code",
   "execution_count": null,
   "metadata": {},
   "outputs": [],
   "source": [
    "import networkx as nx\n",
    "\n",
    "number_of_nodes = 3\n",
    "erdos_prob = .6\n",
    "\n",
    "graph = nx.erdos_renyi_graph(number_of_nodes, erdos_prob)\n",
    "adjacency = nx.to_numpy_matrix(graph).A"
   ]
  },
  {
   "cell_type": "code",
   "execution_count": null,
   "metadata": {},
   "outputs": [],
   "source": [
    "adjacency"
   ]
  },
  {
   "cell_type": "markdown",
   "metadata": {},
   "source": [
    "## 2.1. Dymanic Formulation"
   ]
  },
  {
   "cell_type": "code",
   "execution_count": null,
   "metadata": {},
   "outputs": [],
   "source": [
    "def biochemical(data, t):\n",
    "    F = .5\n",
    "    B = .2\n",
    "    R = 3\n",
    "    \n",
    "    n = len(data)\n",
    "    result = np.empty(n)\n",
    "    \n",
    "    for i in range(0,n):\n",
    "        sigma = 0\n",
    "        for j in range (0,n):\n",
    "            sigma = sigma + R*(adjacency[i,j])*data[i]*data[j]\n",
    "        result[i] = F - B*data[i] - sigma\n",
    "    \n",
    "    return result"
   ]
  },
  {
   "cell_type": "code",
   "execution_count": null,
   "metadata": {},
   "outputs": [],
   "source": [
    "def birthdead(data, t):\n",
    "    B = .02\n",
    "    R = .3\n",
    "    a = 1\n",
    "    b = 1\n",
    "    \n",
    "    n = len(data)\n",
    "    result = np.empty(n)\n",
    "    \n",
    "    for i in range(0,n):\n",
    "        sigma = 0\n",
    "        for j in range (0,n):\n",
    "            sigma = sigma + R*(adjacency[i,j])*pow(data[j],a)\n",
    "        result[i] = -B*pow(data[i],b) + sigma\n",
    "    \n",
    "    return result"
   ]
  },
  {
   "cell_type": "code",
   "execution_count": null,
   "metadata": {},
   "outputs": [],
   "source": [
    "def epidemic(data, t):\n",
    "    B = .02\n",
    "    R = .3\n",
    "    b = 1\n",
    "    \n",
    "    n = len(data)\n",
    "    result = np.empty(n)\n",
    "    \n",
    "    for i in range(0,n):\n",
    "        sigma = 0\n",
    "        for j in range (0,n):\n",
    "            sigma = sigma + R*(adjacency[i,j])*(1-data[i])*data[j]\n",
    "        result[i] = -B*pow(data[i],b) + sigma\n",
    "    \n",
    "    return result"
   ]
  },
  {
   "cell_type": "markdown",
   "metadata": {},
   "source": [
    "## 2.2. Generate Time-series"
   ]
  },
  {
   "cell_type": "code",
   "execution_count": null,
   "metadata": {},
   "outputs": [],
   "source": [
    "from scipy.integrate import odeint\n",
    "\n",
    "dt = .002\n",
    "t_train = np.arange(0, 10, dt)\n",
    "x0_train = np.random.rand(number_of_nodes)\n",
    "x_train = odeint(biochemical, x0_train, t_train)"
   ]
  },
  {
   "cell_type": "markdown",
   "metadata": {},
   "source": [
    "## 3. Fit SINDy"
   ]
  },
  {
   "cell_type": "code",
   "execution_count": null,
   "metadata": {},
   "outputs": [],
   "source": [
    "import pysindy as ps\n",
    "\n",
    "stlsq_optimizer = ps.STLSQ(threshold=.01, alpha=.5)\n",
    "\n",
    "model = ps.SINDy(optimizer=stlsq_optimizer)\n",
    "model.fit(x_train, t=dt)\n",
    "model.print()"
   ]
  },
  {
   "cell_type": "code",
   "execution_count": null,
   "metadata": {},
   "outputs": [],
   "source": [
    "t_test = np.arange(0, 15, dt)\n",
    "x0_test = np.empty(number_of_nodes)\n",
    "x0_test.fill(.2)\n",
    "x_test = odeint(biochemical, x0_test, t_test)  \n",
    "\n",
    "# Compare SINDy-predicted derivatives with finite difference derivatives\n",
    "print('Model score: %f' % model.score(x_test, t=dt))"
   ]
  }
 ],
 "metadata": {
  "kernelspec": {
   "display_name": "Python 3",
   "language": "python",
   "name": "python3"
  },
  "language_info": {
   "codemirror_mode": {
    "name": "ipython",
    "version": 3
   },
   "file_extension": ".py",
   "mimetype": "text/x-python",
   "name": "python",
   "nbconvert_exporter": "python",
   "pygments_lexer": "ipython3",
   "version": "3.8.2"
  }
 },
 "nbformat": 4,
 "nbformat_minor": 4
}
