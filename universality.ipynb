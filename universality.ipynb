{
 "cells": [
  {
   "cell_type": "markdown",
   "metadata": {},
   "source": [
    "## Local Correlation Matrix"
   ]
  },
  {
   "cell_type": "markdown",
   "metadata": {},
   "source": [
    "### 1. Generate random graph"
   ]
  },
  {
   "cell_type": "code",
   "execution_count": 207,
   "metadata": {},
   "outputs": [],
   "source": [
    "import networkx as nx\n",
    "\n",
    "n = 10\n",
    "prob = .6\n",
    "\n",
    "graph = nx.erdos_renyi_graph(n, prob)\n",
    "adjacency = nx.to_numpy_matrix(graph).A"
   ]
  },
  {
   "cell_type": "markdown",
   "metadata": {},
   "source": [
    "### 2. Estimate steady state"
   ]
  },
  {
   "cell_type": "code",
   "execution_count": 208,
   "metadata": {},
   "outputs": [
    {
     "name": "stdout",
     "output_type": "stream",
     "text": [
      "steady_state\n",
      " [0.625, 0.4166666666666667, 0.5263157894736842, 0.5263157894736842, 0.7954545454545455, 0.7142857142857143, 0.625, 0.7142857142857143, 0.7954545454545455, 0.625]\n"
     ]
    }
   ],
   "source": [
    "F = .5\n",
    "B = .2\n",
    "R = 3\n",
    "\n",
    "# todo division by zero if degree be 0\n",
    "steady = [F/(R/graph.degree(i) + B) for i in range(0,n)]\n",
    "print('steady_state\\n', steady)"
   ]
  },
  {
   "cell_type": "markdown",
   "metadata": {},
   "source": [
    "### 3. Calculate R"
   ]
  },
  {
   "cell_type": "code",
   "execution_count": 209,
   "metadata": {},
   "outputs": [
    {
     "name": "stdout",
     "output_type": "stream",
     "text": [
      "adjacency\n",
      " [[0. 0. 0. 0. 1. 1. 1. 1. 0. 1.]\n",
      " [0. 0. 1. 1. 0. 0. 0. 0. 1. 0.]\n",
      " [0. 1. 0. 0. 1. 1. 0. 0. 1. 0.]\n",
      " [0. 1. 0. 0. 0. 1. 1. 0. 1. 0.]\n",
      " [1. 0. 1. 0. 0. 1. 1. 1. 1. 1.]\n",
      " [1. 0. 1. 1. 1. 0. 0. 1. 1. 0.]\n",
      " [1. 0. 0. 1. 1. 0. 0. 1. 0. 1.]\n",
      " [1. 0. 0. 0. 1. 1. 1. 0. 1. 1.]\n",
      " [0. 1. 1. 1. 1. 1. 0. 1. 0. 1.]\n",
      " [1. 0. 0. 0. 1. 0. 1. 1. 1. 0.]]\n",
      "r\n",
      " [[0.         0.         0.         0.         0.13704023 0.14920645\n",
      "  0.16535433 0.14920645 0.         0.16535433]\n",
      " [0.         0.         0.33577609 0.33577609 0.         0.\n",
      "  0.         0.         0.24499308 0.        ]\n",
      " [0.         0.27979635 0.         0.         0.17332894 0.18871681\n",
      "  0.         0.         0.17332894 0.        ]\n",
      " [0.         0.26538624 0.         0.         0.         0.17899749\n",
      "  0.19836951 0.         0.16440213 0.        ]\n",
      " [0.09614435 0.         0.10920744 0.         0.         0.08675525\n",
      "  0.09614435 0.08675525 0.07968127 0.09614435]\n",
      " [0.11898122 0.         0.13514715 0.13514715 0.09860773 0.\n",
      "  0.         0.10736196 0.09860773 0.        ]\n",
      " [0.15469613 0.         0.         0.17571463 0.12820707 0.\n",
      "  0.         0.13958909 0.         0.15469613]\n",
      " [0.12717337 0.         0.         0.         0.10539711 0.1147541\n",
      "  0.12717337 0.         0.10539711 0.12717337]\n",
      " [0.         0.11669282 0.09907615 0.09907615 0.07228916 0.07870687\n",
      "  0.         0.07870687 0.         0.08722493]\n",
      " [0.1686747  0.         0.         0.         0.13979204 0.\n",
      "  0.1686747  0.15220256 0.13979204 0.        ]]\n"
     ]
    }
   ],
   "source": [
    "perturbation = .2\n",
    "\n",
    "def q_bar_prime_i(i, j):\n",
    "    x_old = steady[i]\n",
    "    x_new = x_old + perturbation\n",
    "    return -F*perturbation/(R*x_old*x_new*steady[j])\n",
    "    \n",
    "def q_bar_prime_j(i, j):\n",
    "    x_old = steady[j]\n",
    "    x_new = x_old + perturbation\n",
    "    return -(F-B*steady[i])*perturbation/(R*x_old*x_new*steady[i])\n",
    "\n",
    "\n",
    "def r_i_j(i,j):\n",
    "    if adjacency[i,j] == 0:\n",
    "        return 0\n",
    "    \n",
    "    sum = 0\n",
    "    for k in range(0,n):\n",
    "        if adjacency[i,k] == 1:\n",
    "            sum = sum + q_bar_prime_i(i,k)\n",
    "    \n",
    "    return steady[j]*q_bar_prime_j(i,j)/(steady[i]*sum)\n",
    "\n",
    "\n",
    "r = np.array([[r_i_j(i,j) for j in range(0,n)] for i in range(0,n)])\n",
    "\n",
    "print('adjacency\\n', adjacency)\n",
    "print('r\\n', r)"
   ]
  },
  {
   "cell_type": "markdown",
   "metadata": {},
   "source": [
    "## Correlation Matrix"
   ]
  },
  {
   "cell_type": "markdown",
   "metadata": {},
   "source": [
    "### 1. Solve linear equations system"
   ]
  },
  {
   "cell_type": "code",
   "execution_count": 210,
   "metadata": {},
   "outputs": [],
   "source": [
    "def _g(i, j):\n",
    "    if i == j:\n",
    "        return syms[i][j] - 1\n",
    "    \n",
    "    eq = syms[i][j]\n",
    "    for q in range(0,n):\n",
    "        eq = eq - r[i,q]*syms[q][j]\n",
    "    return eq"
   ]
  },
  {
   "cell_type": "code",
   "execution_count": 211,
   "metadata": {},
   "outputs": [
    {
     "name": "stdout",
     "output_type": "stream",
     "text": [
      "g\n",
      " [(1.00000000000000, 0.127780109701350, 0.137322328333978, 0.152295718221222, 0.221065855581381, 0.220706147677715, 0.294347057990695, 0.265416770659100, 0.124629218149735, 0.307046133434140, 0.0845159930610677, 1.00000000000000, 0.364819114118404, 0.351417242169189, 0.106338546832001, 0.148798429828317, 0.115286763177605, 0.0889580722424666, 0.222181327300113, 0.0931657810689652, 0.116367156250344, 0.467402687476730, 1.00000000000000, 0.226173349530400, 0.190951529190863, 0.233152484826213, 0.116103691202967, 0.115049054799904, 0.227283972518104, 0.115188706896981, 0.134923545432052, 0.470703551887017, 0.236457023440584, 1.00000000000000, 0.125320626281600, 0.231812681987618, 0.251542433004793, 0.129909794900043, 0.226662945335322, 0.134164139136267, 0.319817558947101, 0.232592503789115, 0.325997682355132, 0.204645943231359, 1.00000000000000, 0.260137744307302, 0.301659105403229, 0.278135171003869, 0.222108579068577, 0.318001331635299, 0.278819226122217, 0.284204528261305, 0.347583436306583, 0.330556291283187, 0.227159561882211, 1.00000000000000, 0.192669040919566, 0.245977412522278, 0.230624577651007, 0.180961114360499, 0.310161478395367, 0.183667351110039, 0.144372648286880, 0.299184689084801, 0.219717152879370, 0.160705894772989, 1.00000000000000, 0.262775327741746, 0.141764840759242, 0.311518477474181, 0.316483190145745, 0.160373278556953, 0.161888529782303, 0.174849394438256, 0.229243780698224, 0.232171671781721, 0.297357375207952, 1.00000000000000, 0.193086012702715, 0.314780278148552, 0.190892561655260, 0.514518565553347, 0.410817262206066, 0.391876853091318, 0.235154792639520, 0.279618844411295, 0.206067504185889, 0.248026259035502, 1.00000000000000, 0.277372165392767, 0.303516978757332, 0.139238759336983, 0.134369282400142, 0.149697916103785, 0.217283956976619, 0.141597743572246, 0.292236871981385, 0.260954377021671, 0.179008271619304, 1.00000000000000)]\n"
     ]
    }
   ],
   "source": [
    "from sympy import symbols, solve_poly_system\n",
    "\n",
    "syms = [[symbols('{}_{}'.format(i,j)) for i in range(0,n)] for j in range(n)]\n",
    "eq_system = [_g(int(cnt/n),cnt%n) for cnt in range(0,n*n)]\n",
    "                        \n",
    "g = solve_poly_system(eq_system)\n",
    "print('g\\n', g)\n",
    "\n",
    "# todo: convert g to matrix"
   ]
  },
  {
   "cell_type": "markdown",
   "metadata": {},
   "source": [
    "### 2. Plot distribution of G"
   ]
  },
  {
   "cell_type": "code",
   "execution_count": 212,
   "metadata": {},
   "outputs": [
    {
     "data": {
      "image/png": "[encoded data removed]",
      "text/plain": [
       "<Figure size 432x288 with 1 Axes>"
      ]
     },
     "metadata": {
      "needs_background": "light"
     },
     "output_type": "display_data"
    }
   ],
   "source": [
    "import matplotlib.pyplot as plt\n",
    "\n",
    "count, bins, patches = plt.hist([float(f) for f in list(g[0])])\n",
    "plt.show()"
   ]
  }
 ],
 "metadata": {
  "kernelspec": {
   "display_name": "Python 3",
   "language": "python",
   "name": "python3"
  },
  "language_info": {
   "codemirror_mode": {
    "name": "ipython",
    "version": 3
   },
   "file_extension": ".py",
   "mimetype": "text/x-python",
   "name": "python",
   "nbconvert_exporter": "python",
   "pygments_lexer": "ipython3",
   "version": "3.6.9"
  }
 },
 "nbformat": 4,
 "nbformat_minor": 2
}
