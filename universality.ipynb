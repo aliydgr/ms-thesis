{
 "cells": [
  {
   "cell_type": "markdown",
   "metadata": {},
   "source": [
    "## Local Correlation Matrix"
   ]
  },
  {
   "cell_type": "markdown",
   "metadata": {},
   "source": [
    "### 1. Generate random graph"
   ]
  },
  {
   "cell_type": "code",
   "execution_count": 19,
   "metadata": {},
   "outputs": [],
   "source": [
    "import networkx as nx\n",
    "\n",
    "n = 10\n",
    "prob = .6\n",
    "\n",
    "graph = nx.erdos_renyi_graph(n, prob)\n",
    "adjacency = nx.to_numpy_matrix(graph).A"
   ]
  },
  {
   "cell_type": "markdown",
   "metadata": {},
   "source": [
    "### 2. Estimate steady state"
   ]
  },
  {
   "cell_type": "code",
   "execution_count": 20,
   "metadata": {},
   "outputs": [
    {
     "name": "stdout",
     "output_type": "stream",
     "text": [
      "steady_state\n",
      " [0.625, 0.7142857142857143, 0.625, 0.29411764705882354, 0.625, 0.625, 0.7142857142857143, 0.4166666666666667, 0.625, 0.8695652173913044]\n"
     ]
    }
   ],
   "source": [
    "F = .5\n",
    "B = .2\n",
    "R = 3\n",
    "\n",
    "# todo division by zero if degree be 0\n",
    "steady = [F/(R/graph.degree(i) + B) for i in range(0,n)]\n",
    "print('steady_state\\n', steady)"
   ]
  },
  {
   "cell_type": "markdown",
   "metadata": {},
   "source": [
    "### 3. Calculate R"
   ]
  },
  {
   "cell_type": "code",
   "execution_count": 21,
   "metadata": {},
   "outputs": [
    {
     "name": "stdout",
     "output_type": "stream",
     "text": [
      "adjacency\n",
      " [[0. 1. 0. 0. 1. 1. 1. 0. 0. 1.]\n",
      " [1. 0. 1. 1. 0. 0. 1. 1. 0. 1.]\n",
      " [0. 1. 0. 0. 0. 1. 1. 0. 1. 1.]\n",
      " [0. 1. 0. 0. 0. 0. 0. 0. 0. 1.]\n",
      " [1. 0. 0. 0. 0. 1. 1. 1. 1. 0.]\n",
      " [1. 0. 1. 0. 1. 0. 0. 0. 1. 1.]\n",
      " [1. 1. 1. 0. 1. 0. 0. 0. 1. 1.]\n",
      " [0. 1. 0. 0. 1. 0. 0. 0. 0. 1.]\n",
      " [0. 0. 1. 0. 1. 1. 1. 0. 0. 1.]\n",
      " [1. 1. 1. 1. 0. 1. 1. 1. 1. 0.]]\n",
      "r\n",
      " [[0.         0.14685315 0.         0.         0.16783217 0.16783217\n",
      "  0.14685315 0.         0.         0.12062937]\n",
      " [0.09894867 0.         0.09894867 0.21026592 0.         0.\n",
      "  0.08658009 0.14842301 0.         0.07111936]\n",
      " [0.         0.14685315 0.         0.         0.         0.16783217\n",
      "  0.14685315 0.         0.16783217 0.12062937]\n",
      " [0.         0.48442907 0.         0.         0.         0.\n",
      "  0.         0.         0.         0.39792388]\n",
      " [0.13953488 0.         0.         0.         0.         0.13953488\n",
      "  0.12209302 0.20930233 0.13953488 0.        ]\n",
      " [0.1589404  0.         0.1589404  0.         0.1589404  0.\n",
      "  0.         0.         0.1589404  0.11423841]\n",
      " [0.12769354 0.11173184 0.12769354 0.         0.12769354 0.\n",
      "  0.         0.         0.12769354 0.09177973]\n",
      " [0.         0.2811245  0.         0.         0.32128514 0.\n",
      "  0.         0.         0.         0.23092369]\n",
      " [0.         0.         0.16326531 0.         0.16326531 0.16326531\n",
      "  0.14285714 0.         0.         0.11734694]\n",
      " [0.06956522 0.06086957 0.06956522 0.14782609 0.         0.06956522\n",
      "  0.06086957 0.10434783 0.06956522 0.        ]]\n"
     ]
    }
   ],
   "source": [
    "import numpy as np\n",
    "\n",
    "perturbation = .2\n",
    "\n",
    "def q_bar_prime_i(i, j):\n",
    "    return -F/(R*steady[i]*steady[i]*steady[j])\n",
    "    \n",
    "def q_bar_prime_j(i, j):\n",
    "    return -(F-B*steady[i])/(R*steady[j]*steady[j]*steady[i])\n",
    "\n",
    "\n",
    "def r_i_j(i,j):\n",
    "    if adjacency[i,j] == 0:\n",
    "        return 0\n",
    "    \n",
    "    sum = 0\n",
    "    for k in range(0,n):\n",
    "        if adjacency[i,k] == 1:\n",
    "            sum = sum + q_bar_prime_i(i,k)\n",
    "    \n",
    "    return steady[j]*q_bar_prime_j(i,j)/(steady[i]*sum)\n",
    "\n",
    "\n",
    "r = np.array([[r_i_j(i,j) for j in range(0,n)] for i in range(0,n)])\n",
    "\n",
    "print('adjacency\\n', adjacency)\n",
    "print('r\\n', r)"
   ]
  },
  {
   "cell_type": "markdown",
   "metadata": {},
   "source": [
    "## Correlation Matrix"
   ]
  },
  {
   "cell_type": "markdown",
   "metadata": {},
   "source": [
    "### 1. Solve linear equations system"
   ]
  },
  {
   "cell_type": "code",
   "execution_count": 22,
   "metadata": {},
   "outputs": [],
   "source": [
    "def _g(i, j):\n",
    "    if i == j:\n",
    "        return syms[i][j] - 1\n",
    "    \n",
    "    eq = syms[i][j]\n",
    "    for q in range(0,n):\n",
    "        eq = eq - r[i,q]*syms[q][j]\n",
    "    return eq"
   ]
  },
  {
   "cell_type": "code",
   "execution_count": null,
   "metadata": {},
   "outputs": [],
   "source": [
    "from sympy import symbols, solve_poly_system\n",
    "\n",
    "syms = [[symbols('{}_{}'.format(i,j)) for i in range(0,n)] for j in range(n)]\n",
    "eq_system = [_g(int(cnt/n),cnt%n) for cnt in range(0,n*n)]\n",
    "                        \n",
    "g = solve_poly_system(eq_system)\n",
    "print('g\\n', g)\n",
    "\n",
    "# todo: convert g to matrix"
   ]
  },
  {
   "cell_type": "markdown",
   "metadata": {},
   "source": [
    "### 2. Plot distribution of G"
   ]
  },
  {
   "cell_type": "code",
   "execution_count": null,
   "metadata": {},
   "outputs": [],
   "source": [
    "import matplotlib.pyplot as plt\n",
    "\n",
    "count, bins, patches = plt.hist([float(f) for f in list(g[0])])\n",
    "plt.show()"
   ]
  }
 ],
 "metadata": {
  "kernelspec": {
   "display_name": "Python 3",
   "language": "python",
   "name": "python3"
  },
  "language_info": {
   "codemirror_mode": {
    "name": "ipython",
    "version": 3
   },
   "file_extension": ".py",
   "mimetype": "text/x-python",
   "name": "python",
   "nbconvert_exporter": "python",
   "pygments_lexer": "ipython3",
   "version": "3.6.9"
  }
 },
 "nbformat": 4,
 "nbformat_minor": 2
}
