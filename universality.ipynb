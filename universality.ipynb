{
 "cells": [
  {
   "cell_type": "markdown",
   "metadata": {},
   "source": [
    "## Local Correlation Matrix"
   ]
  },
  {
   "cell_type": "markdown",
   "metadata": {},
   "source": [
    "### 1. Generate random graph"
   ]
  },
  {
   "cell_type": "code",
   "execution_count": 19,
   "metadata": {},
   "outputs": [],
   "source": [
    "import networkx as nx\n",
    "\n",
    "n = 10\n",
    "prob = .6\n",
    "\n",
    "graph = nx.erdos_renyi_graph(n, prob)\n",
    "adjacency = nx.to_numpy_matrix(graph).A"
   ]
  },
  {
   "cell_type": "markdown",
   "metadata": {},
   "source": [
    "### 2. Estimate steady state"
   ]
  },
  {
   "cell_type": "code",
   "execution_count": 20,
   "metadata": {},
   "outputs": [
    {
     "name": "stdout",
     "output_type": "stream",
     "text": [
      "steady_state\n",
      " [0.625, 0.7142857142857143, 0.625, 0.29411764705882354, 0.625, 0.625, 0.7142857142857143, 0.4166666666666667, 0.625, 0.8695652173913044]\n"
     ]
    }
   ],
   "source": [
    "F = .5\n",
    "B = .2\n",
    "R = 3\n",
    "\n",
    "# todo division by zero if degree be 0\n",
    "steady = [F/(R/graph.degree(i) + B) for i in range(0,n)]\n",
    "print('steady_state\\n', steady)"
   ]
  },
  {
   "cell_type": "markdown",
   "metadata": {},
   "source": [
    "### 3. Calculate R"
   ]
  },
  {
   "cell_type": "code",
   "execution_count": 21,
   "metadata": {},
   "outputs": [
    {
     "name": "stdout",
     "output_type": "stream",
     "text": [
      "adjacency\n",
      " [[0. 1. 0. 0. 1. 1. 1. 0. 0. 1.]\n",
      " [1. 0. 1. 1. 0. 0. 1. 1. 0. 1.]\n",
      " [0. 1. 0. 0. 0. 1. 1. 0. 1. 1.]\n",
      " [0. 1. 0. 0. 0. 0. 0. 0. 0. 1.]\n",
      " [1. 0. 0. 0. 0. 1. 1. 1. 1. 0.]\n",
      " [1. 0. 1. 0. 1. 0. 0. 0. 1. 1.]\n",
      " [1. 1. 1. 0. 1. 0. 0. 0. 1. 1.]\n",
      " [0. 1. 0. 0. 1. 0. 0. 0. 0. 1.]\n",
      " [0. 0. 1. 0. 1. 1. 1. 0. 0. 1.]\n",
      " [1. 1. 1. 1. 0. 1. 1. 1. 1. 0.]]\n",
      "r\n",
      " [[0.         0.14685315 0.         0.         0.16783217 0.16783217\n",
      "  0.14685315 0.         0.         0.12062937]\n",
      " [0.09894867 0.         0.09894867 0.21026592 0.         0.\n",
      "  0.08658009 0.14842301 0.         0.07111936]\n",
      " [0.         0.14685315 0.         0.         0.         0.16783217\n",
      "  0.14685315 0.         0.16783217 0.12062937]\n",
      " [0.         0.48442907 0.         0.         0.         0.\n",
      "  0.         0.         0.         0.39792388]\n",
      " [0.13953488 0.         0.         0.         0.         0.13953488\n",
      "  0.12209302 0.20930233 0.13953488 0.        ]\n",
      " [0.1589404  0.         0.1589404  0.         0.1589404  0.\n",
      "  0.         0.         0.1589404  0.11423841]\n",
      " [0.12769354 0.11173184 0.12769354 0.         0.12769354 0.\n",
      "  0.         0.         0.12769354 0.09177973]\n",
      " [0.         0.2811245  0.         0.         0.32128514 0.\n",
      "  0.         0.         0.         0.23092369]\n",
      " [0.         0.         0.16326531 0.         0.16326531 0.16326531\n",
      "  0.14285714 0.         0.         0.11734694]\n",
      " [0.06956522 0.06086957 0.06956522 0.14782609 0.         0.06956522\n",
      "  0.06086957 0.10434783 0.06956522 0.        ]]\n"
     ]
    }
   ],
   "source": [
    "import numpy as np\n",
    "\n",
    "def q_bar_prime_i(i, j):\n",
    "    return -F/(R*steady[i]*steady[i]*steady[j])\n",
    "    \n",
    "def q_bar_prime_j(i, j):\n",
    "    return -(F-B*steady[i])/(R*steady[j]*steady[j]*steady[i])\n",
    "\n",
    "\n",
    "def r_i_j(i,j):\n",
    "    if adjacency[i,j] == 0:\n",
    "        return 0\n",
    "    \n",
    "    sum = 0\n",
    "    for k in range(0,n):\n",
    "        if adjacency[i,k] == 1:\n",
    "            sum = sum + q_bar_prime_i(i,k)\n",
    "    \n",
    "    return steady[j]*q_bar_prime_j(i,j)/(steady[i]*sum)\n",
    "\n",
    "\n",
    "r = np.array([[r_i_j(i,j) for j in range(0,n)] for i in range(0,n)])\n",
    "\n",
    "print('adjacency\\n', adjacency)\n",
    "print('r\\n', r)"
   ]
  },
  {
   "cell_type": "markdown",
   "metadata": {},
   "source": [
    "## Correlation Matrix"
   ]
  },
  {
   "cell_type": "markdown",
   "metadata": {},
   "source": [
    "### 1. Solve linear equations system"
   ]
  },
  {
   "cell_type": "code",
   "execution_count": 22,
   "metadata": {},
   "outputs": [],
   "source": [
    "def _g(i, j):\n",
    "    if i == j:\n",
    "        return syms[i][j] - 1\n",
    "    \n",
    "    eq = syms[i][j]\n",
    "    for q in range(0,n):\n",
    "        eq = eq - r[i,q]*syms[q][j]\n",
    "    return eq"
   ]
  },
  {
   "cell_type": "code",
   "execution_count": 23,
   "metadata": {},
   "outputs": [
    {
     "name": "stdout",
     "output_type": "stream",
     "text": [
      "g\n",
      " [(1.00000000000000, 0.216395695370805, 0.166679024740429, 0.179405472714103, 0.273046903967515, 0.277980141943675, 0.247508970663909, 0.191838727407989, 0.174527562713948, 0.187415515325765, 0.282234980341391, 1.00000000000000, 0.277281513982623, 0.592119856536026, 0.206482829057061, 0.180792197020187, 0.256981227720395, 0.409959620859521, 0.176968425336068, 0.270631639468797, 0.165849465338413, 0.211539668629733, 1.00000000000000, 0.178873908689981, 0.166698346658792, 0.280517643607229, 0.249005039776089, 0.157362038306849, 0.294381908178018, 0.191991356549929, 0.110290111262174, 0.279092580425623, 0.110513354077896, 1.00000000000000, 0.0841314926408265, 0.0865477656200074, 0.100716450106726, 0.155010630299457, 0.0854616477511718, 0.214446033104434, 0.303707751222621, 0.176092289257501, 0.186344589232623, 0.152221615191407, 1.00000000000000, 0.303835714903947, 0.263778297552028, 0.409622583916298, 0.300711159809594, 0.168166315602317, 0.285339665628125, 0.142287200919465, 0.289384611199805, 0.144511812479773, 0.280393911100090, 1.00000000000000, 0.181406249877218, 0.173949677876846, 0.304495045131350, 0.189945266764603, 0.283119614150873, 0.225381461758280, 0.286255622581450, 0.187403861708026, 0.271268555676699, 0.202154253428800, 1.00000000000000, 0.195909005907413, 0.289953939242216, 0.196576620760523, 0.146773010834004, 0.240485435401615, 0.120997602662647, 0.192917005779706, 0.281757309536188, 0.129653776624297, 0.131034394326698, 1.00000000000000, 0.128178835848518, 0.192043945340078, 0.175712143053590, 0.136606484873433, 0.297862439984692, 0.139961351001543, 0.272187814118852, 0.298654873611563, 0.255204161200788, 0.168672451201732, 1.00000000000000, 0.185425413540568, 0.300333852450208, 0.332517948118937, 0.309205562133942, 0.559005234382876, 0.242280875930998, 0.296536970062791, 0.275392175525295, 0.402243881296408, 0.295141479463243, 1.00000000000000)]\n"
     ]
    }
   ],
   "source": [
    "from sympy import symbols, solve_poly_system\n",
    "\n",
    "syms = [[symbols('{}_{}'.format(i,j)) for i in range(0,n)] for j in range(n)]\n",
    "eq_system = [_g(int(cnt/n),cnt%n) for cnt in range(0,n*n)]\n",
    "                        \n",
    "g = solve_poly_system(eq_system)\n",
    "print('g\\n', g)\n",
    "\n",
    "# todo: convert g to matrix"
   ]
  },
  {
   "cell_type": "markdown",
   "metadata": {},
   "source": [
    "### 2. Plot distribution of G"
   ]
  },
  {
   "cell_type": "code",
   "execution_count": 9,
   "metadata": {},
   "outputs": [
    {
     "data": {
      "image/png": "[encoded data removed]",
      "text/plain": [
       "<Figure size 432x288 with 1 Axes>"
      ]
     },
     "metadata": {
      "needs_background": "light"
     },
     "output_type": "display_data"
    }
   ],
   "source": [
    "import matplotlib.pyplot as plt\n",
    "\n",
    "count, bins, patches = plt.hist([float(f) for f in list(g[0])], density=True)\n",
    "plt.show()"
   ]
  }
 ],
 "metadata": {
  "kernelspec": {
   "display_name": "Python 3",
   "language": "python",
   "name": "python3"
  },
  "language_info": {
   "codemirror_mode": {
    "name": "ipython",
    "version": 3
   },
   "file_extension": ".py",
   "mimetype": "text/x-python",
   "name": "python",
   "nbconvert_exporter": "python",
   "pygments_lexer": "ipython3",
   "version": "3.6.9"
  }
 },
 "nbformat": 4,
 "nbformat_minor": 2
}
