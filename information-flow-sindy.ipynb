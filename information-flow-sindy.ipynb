{
 "cells": [
  {
   "cell_type": "code",
   "execution_count": 1,
   "metadata": {},
   "outputs": [],
   "source": [
    "import numpy as np\n",
    "import pysindy as ps\n",
    "import networkx as nx\n",
    "import matplotlib.pyplot as plt\n",
    "from scipy.integrate import odeint"
   ]
  },
  {
   "cell_type": "code",
   "execution_count": 3,
   "metadata": {},
   "outputs": [],
   "source": [
    "def bio(data, t):\n",
    "    F = 5\n",
    "    B = 1\n",
    "    R = 1\n",
    "    \n",
    "    n = len(data)\n",
    "    result = np.empty(n)\n",
    "    \n",
    "    for i in range(0,n):\n",
    "        sigma = 0\n",
    "        for j in range (0,n):\n",
    "            sigma = sigma + R*(adjacency[i,j])*data[i]*data[j]\n",
    "        result[i] = F - B*data[i] - sigma\n",
    "    \n",
    "    return result"
   ]
  },
  {
   "cell_type": "code",
   "execution_count": 146,
   "metadata": {},
   "outputs": [
    {
     "name": "stdout",
     "output_type": "stream",
     "text": [
      "x0' = -9.493 x0 + 2.297 x1 + 1.082 x3 + 1.260 x0.x1 + -1.772 x0.x2 + 2.456 x0.x3 + -0.892 x1.x3\n",
      "x1' = 5.992 1 + -2.074 x0 + -0.316 x3 + -0.255 x0.x1 + 0.223 x0.x2 + -0.961 x1.x2\n",
      "x2' = -24.918 1 + -6.504 x0 + 6.855 x1 + -1.449 x2 + 6.346 x3 + 1.071 x0.x1 + -1.717 x0.x2 + 3.950 x0.x3 + -0.916 x1.x2 + -1.089 x1.x3\n",
      "x3' = 0.552 x0.x1 + -0.501 x0.x2 + 0.465 x0.x3 + -0.368 x1.x3\n"
     ]
    }
   ],
   "source": [
    "number_of_nodes = 4\n",
    "adjacency = np.array([\n",
    "       [0., 0., 1., 1,],\n",
    "       [0., 0., 1., 0.],\n",
    "       [1., 1., 0., 0.],\n",
    "       [1., 0., 0., 0.]\n",
    "])\n",
    "\n",
    "dt = .01\n",
    "\n",
    "t_train = np.arange(0, 100, dt)\n",
    "x0_train = [-8, 8, 27, 5]\n",
    "x_train = odeint(bio, x0_train, t_train)\n",
    "\n",
    "\n",
    "library_functions = [\n",
    "    lambda : 1,\n",
    "    lambda x : x,\n",
    "    lambda x,y : x*y\n",
    "]\n",
    "library_function_names = [\n",
    "    lambda : 1,\n",
    "    lambda x : x,\n",
    "    lambda x,y : '' + x + '.' + y\n",
    "]\n",
    "custom_library = ps.CustomLibrary(\n",
    "    library_functions=library_functions, function_names=library_function_names\n",
    ")\n",
    "\n",
    "model = ps.SINDy(feature_library=custom_library)\n",
    "model.fit(x_train, t=dt)\n",
    "model.print()"
   ]
  },
  {
   "cell_type": "code",
   "execution_count": 165,
   "metadata": {},
   "outputs": [
    {
     "name": "stdout",
     "output_type": "stream",
     "text": [
      "real_steady_state: [1.11168052 2.35265739 1.12104436 2.37247365]\n",
      "sindy_steady_state: [1.11228059 2.35580021 1.11974547 2.36967157]\n"
     ]
    }
   ],
   "source": [
    "def find_steady_state(X):\n",
    "    prev_state = X[0]\n",
    "    for i in range(1,len(X)):\n",
    "        state = X[i]\n",
    "        diff = np.subtract(state, prev_state)\n",
    "        prev_state = state\n",
    "        if -0.0001 < max(np.amax(diff), np.amin(diff), key=abs) < 0.0001:\n",
    "            return state\n",
    "\n",
    "real_steady_state = find_steady_state(x_train)        \n",
    "        \n",
    "def bio_sindy(data, t):\n",
    "    # custom_library.get_feature_names()\n",
    "    cf = [1, data[0], data[1], data[2], data[3], \n",
    "     data[0]*data[1], data[0]*data[2], data[0]*data[3],\n",
    "     data[1]*data[2], data[1]*data[3], data[2]*data[3]]\n",
    "    \n",
    "    result = np.empty(len(data))\n",
    "    for index in range(0, len(data)):\n",
    "        sum = 0\n",
    "        for i in range(0, len(cf)):\n",
    "            sum += coefficients[index][i] * cf[i]\n",
    "        result[index] = sum\n",
    "    return result\n",
    "\n",
    "coefficients = model.coefficients()\n",
    "x_test = odeint(bio_sindy, x0_train, t_train)\n",
    "sindy_steady_state = find_steady_state(x_test)\n",
    "\n",
    "print('real_steady_state:', real_steady_state)\n",
    "print('sindy_steady_state:', sindy_steady_state)"
   ]
  },
  {
   "cell_type": "code",
   "execution_count": 166,
   "metadata": {},
   "outputs": [
    {
     "name": "stdout",
     "output_type": "stream",
     "text": [
      "perturbed_steady_state: [1.1122507  2.35573156 1.1197743  2.36973726]\n"
     ]
    }
   ],
   "source": [
    "perturbation = np.array([1., 0., 0., 1.])\n",
    "perturbed = np.add(sindy_steady_state, perturbation)\n",
    "\n",
    "t_perturbed = np.arange(0, 10, dt)\n",
    "x_perturbed = odeint(bio_sindy, perturbed, t_perturbed)\n",
    "perturbed_steady_state = find_steady_state(x_perturbed)\n",
    "\n",
    "print('perturbed_steady_state:', perturbed_steady_state)"
   ]
  },
  {
   "cell_type": "code",
   "execution_count": 169,
   "metadata": {},
   "outputs": [
    {
     "data": {
      "text/plain": [
       "array([[ 1.20735363e-02, -2.86394990e-02,  1.51243419e-01,\n",
       "         1.87998473e-02],\n",
       "       [ 6.69159450e-03, -3.09832146e-02,  1.42250676e-01,\n",
       "         1.74931303e-02],\n",
       "       [ 1.55793491e-03, -3.29128108e-02,  1.33344228e-01,\n",
       "         1.61600291e-02],\n",
       "       ...,\n",
       "       [ 5.72369119e-05,  9.81677146e-05, -4.95361518e-05,\n",
       "        -1.02530488e-04],\n",
       "       [ 5.64780420e-05,  9.67762230e-05, -4.88523572e-05,\n",
       "        -1.01105181e-04],\n",
       "       [ 5.57286834e-05,  9.54041838e-05, -4.81779135e-05,\n",
       "        -9.96992632e-05]])"
      ]
     },
     "execution_count": 169,
     "metadata": {},
     "output_type": "execute_result"
    }
   ],
   "source": [
    "def flow(X):\n",
    "    prev_state = X[0]\n",
    "    result = np.empty((0,len(prev_state)))\n",
    "    for i in range(1,len(X)):\n",
    "        state = X[i]\n",
    "        diff = np.subtract(state, prev_state)\n",
    "        result = np.vstack((result, diff))\n",
    "        prev_state = state\n",
    "        if -0.0001 < max(np.amax(diff), np.amin(diff), key=abs) < 0.0001:\n",
    "            return result\n",
    "\n",
    "x_flow = flow(x_perturbed)\n",
    "x_flow"
   ]
  },
  {
   "cell_type": "code",
   "execution_count": 168,
   "metadata": {},
   "outputs": [
    {
     "data": {
      "image/png": "[encoded data removed]",
      "text/plain": [
       "<Figure size 432x288 with 1 Axes>"
      ]
     },
     "metadata": {
      "needs_background": "light"
     },
     "output_type": "display_data"
    },
    {
     "data": {
      "image/png": "[encoded data removed]",
      "text/plain": [
       "<Figure size 432x288 with 1 Axes>"
      ]
     },
     "metadata": {
      "needs_background": "light"
     },
     "output_type": "display_data"
    },
    {
     "data": {
      "image/png": "[encoded data removed]",
      "text/plain": [
       "<Figure size 432x288 with 1 Axes>"
      ]
     },
     "metadata": {
      "needs_background": "light"
     },
     "output_type": "display_data"
    },
    {
     "data": {
      "image/png": "[encoded data removed]",
      "text/plain": [
       "<Figure size 432x288 with 1 Axes>"
      ]
     },
     "metadata": {
      "needs_background": "light"
     },
     "output_type": "display_data"
    }
   ],
   "source": [
    "for i in range(0,number_of_nodes):\n",
    "    plt.figure(i)\n",
    "    plt.plot(x_flow[:,i])\n",
    "plt.show()"
   ]
  }
 ],
 "metadata": {
  "kernelspec": {
   "display_name": "Python 3",
   "language": "python",
   "name": "python3"
  },
  "language_info": {
   "codemirror_mode": {
    "name": "ipython",
    "version": 3
   },
   "file_extension": ".py",
   "mimetype": "text/x-python",
   "name": "python",
   "nbconvert_exporter": "python",
   "pygments_lexer": "ipython3",
   "version": "3.6.9"
  }
 },
 "nbformat": 4,
 "nbformat_minor": 2
}
