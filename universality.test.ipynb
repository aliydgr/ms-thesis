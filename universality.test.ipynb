{
 "cells": [
  {
   "cell_type": "code",
   "execution_count": 1,
   "metadata": {},
   "outputs": [],
   "source": [
    "import networkx as nx\n",
    "import numpy as np\n",
    "from sympy import symbols, solve_poly_system\n",
    "import matplotlib.pyplot as plt\n",
    "\n",
    "\n",
    "def q_bar_prime_i(i, j):\n",
    "    return -F/(R*steady[i]*steady[i]*steady[j])\n",
    "    \n",
    "def q_bar_prime_j(i, j):\n",
    "    return -(F-B*steady[i])/(R*steady[j]*steady[j]*steady[i])\n",
    "\n",
    "\n",
    "def r_i_j(i,j):\n",
    "    if adjacency[i,j] == 0:\n",
    "        return 0\n",
    "    \n",
    "    sum = 0\n",
    "    for k in range(0,n):\n",
    "        if adjacency[i,k] == 1:\n",
    "            sum = sum + q_bar_prime_i(i,k)\n",
    "    \n",
    "    return steady[j]*q_bar_prime_j(i,j)/(steady[i]*sum)\n",
    "\n",
    "def _g(i, j):\n",
    "    if i == j:\n",
    "        return syms[i][j] - 1\n",
    "    \n",
    "    eq = syms[i][j]\n",
    "    for q in range(0,n):\n",
    "        eq = eq - r[i,q]*syms[q][j]\n",
    "    return eq"
   ]
  },
  {
   "cell_type": "code",
   "execution_count": 4,
   "metadata": {},
   "outputs": [
    {
     "data": {
      "image/png": "[encoded data removed]",
      "text/plain": [
       "<Figure size 432x288 with 1 Axes>"
      ]
     },
     "metadata": {
      "needs_background": "light"
     },
     "output_type": "display_data"
    }
   ],
   "source": [
    "n = 5\n",
    "prob = .6\n",
    "F = .5\n",
    "B = .2\n",
    "R = 3\n",
    "iteration = 20\n",
    "\n",
    "result = []\n",
    "for x in range(0,iteration):\n",
    "    try:\n",
    "        graph = nx.erdos_renyi_graph(n, prob)\n",
    "        adjacency = nx.to_numpy_matrix(graph).A\n",
    "        steady = [F/(R/graph.degree(i) + B) for i in range(0,n)]\n",
    "        r = np.array([[r_i_j(i,j) for j in range(0,n)] for i in range(0,n)])\n",
    "        syms = [[symbols('{}_{}'.format(i,j)) for i in range(0,n)] for j in range(n)]\n",
    "        eq_system = [_g(int(cnt/n),cnt%n) for cnt in range(0,n*n)]                    \n",
    "        g = solve_poly_system(eq_system)\n",
    "        result.extend(list(g[0]))\n",
    "    except Exception as e:\n",
    "        continue\n",
    "\n",
    "count, bins, patches = plt.hist([float(f) for f in result], density=True)\n",
    "plt.show()"
   ]
  }
 ],
 "metadata": {
  "kernelspec": {
   "display_name": "Python 3",
   "language": "python",
   "name": "python3"
  },
  "language_info": {
   "codemirror_mode": {
    "name": "ipython",
    "version": 3
   },
   "file_extension": ".py",
   "mimetype": "text/x-python",
   "name": "python",
   "nbconvert_exporter": "python",
   "pygments_lexer": "ipython3",
   "version": "3.6.9"
  }
 },
 "nbformat": 4,
 "nbformat_minor": 2
}
