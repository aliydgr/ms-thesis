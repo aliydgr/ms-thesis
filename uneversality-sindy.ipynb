{
 "cells": [
  {
   "cell_type": "markdown",
   "metadata": {},
   "source": [
    "## 1. Graph"
   ]
  },
  {
   "cell_type": "code",
   "execution_count": 82,
   "metadata": {},
   "outputs": [],
   "source": [
    "import networkx as nx\n",
    "\n",
    "number_of_nodes = 10\n",
    "erdos_prob = .2\n",
    "\n",
    "graph = nx.erdos_renyi_graph(number_of_nodes, erdos_prob)\n",
    "matrix = nx.to_numpy_matrix(graph).A"
   ]
  },
  {
   "cell_type": "markdown",
   "metadata": {},
   "source": [
    "## 2.1. Dymanic Formulation"
   ]
  },
  {
   "cell_type": "code",
   "execution_count": 83,
   "metadata": {},
   "outputs": [],
   "source": [
    "def biochemical(n, x, adjecant, row_data):\n",
    "    F = .05\n",
    "    B = .002\n",
    "    R = .003\n",
    "    \n",
    "    sigma = 0\n",
    "    for j in range (0,n):\n",
    "        sigma = sigma + R*(adjecant[j])*x*row_data[j]\n",
    "    return x + (F - B*x - sigma)"
   ]
  },
  {
   "cell_type": "code",
   "execution_count": 84,
   "metadata": {},
   "outputs": [],
   "source": [
    "def birthdead(n, x, adjecant, row_data):\n",
    "    B = .02\n",
    "    R = .3\n",
    "    a = 1\n",
    "    b = 1\n",
    "    \n",
    "    sigma = 0\n",
    "    for j in range (0,n):\n",
    "        sigma = sigma + R*(adjecant[j])*pow(row_data[j],a)\n",
    "    return x + (-B*pow(x,b) + sigma)"
   ]
  },
  {
   "cell_type": "code",
   "execution_count": 85,
   "metadata": {},
   "outputs": [],
   "source": [
    "def epidemic(n, x, adjecant, row_data):\n",
    "    B = .02\n",
    "    R = .3\n",
    "    b = 1\n",
    "    \n",
    "    sigma = 0\n",
    "    for j in range (0,n):\n",
    "        sigma = sigma + R*(adjecant[j])*(1-x)*row_data[j]\n",
    "    return x + (-B*pow(x,b) + sigma)"
   ]
  },
  {
   "cell_type": "markdown",
   "metadata": {},
   "source": [
    "## 2.2. Generate Time-series"
   ]
  },
  {
   "cell_type": "code",
   "execution_count": 86,
   "metadata": {},
   "outputs": [],
   "source": [
    "import numpy as np\n",
    "\n",
    "number_of_times = 1000\n",
    "data = np.empty([number_of_times, number_of_nodes]) \n",
    "# todo: initial state?\n",
    "data.fill(.5)\n",
    "\n",
    "for t in range(0,number_of_times-1):\n",
    "    for i in range(0,number_of_nodes):\n",
    "        data[t+1,i] = biochemical(number_of_nodes, data[t,i], matrix[i], data[t])"
   ]
  },
  {
   "cell_type": "markdown",
   "metadata": {},
   "source": [
    "## 3. Fit SINDy"
   ]
  },
  {
   "cell_type": "code",
   "execution_count": 90,
   "metadata": {},
   "outputs": [
    {
     "name": "stdout",
     "output_type": "stream",
     "text": [
      "x0' = 0.050 1 + 527.496 x0 + 8765.599 x1 + -8846.583 x2 + 8927.573 x3 + -8866.690 x4 + -8826.489 x5 + -8846.575 x6 + 13006.679 x7 + 13005.569 x8 + -8846.581 x9 + -14.866 x0 x1 + 3.000 x0 x3 + 111949.706 x0 x4 + 111939.573 x0 x5 + 0.285 x1 x2 + 0.184 x1 x6 + 2.970 x1 x7 + 2.970 x1 x8 + 0.001 x2^2 + -0.291 x2 x3 + -0.003 x2 x6 + 0.002 x2 x9 + -0.194 x3 x6 + 2.970 x3 x7 + 2.970 x3 x8 + -0.043 x4 x6 + 111939.576 x4 x7 + 111939.576 x4 x8 + 0.043 x5 x6 + -221406.908 x5 x7 + -226361.523 x5 x8 + -0.001 x6 x9\n",
      "x1' = 0.050 1 + -0.001 x0 + 0.001 x1 + 0.004 x2 + 0.001 x3 + -0.013 x4 + -0.013 x5 + 0.014 x6 + -0.001 x7 + -0.001 x8 + 0.007 x9 + 0.004 x0 x1 + 0.004 x0 x3 + -0.003 x1^2 + -0.009 x1 x2 + -0.003 x1 x3 + -0.011 x1 x6 + 0.004 x1 x7 + 0.004 x1 x8 + 0.003 x1 x9 + 0.004 x2^2 + -0.009 x2 x3 + -0.002 x2 x6 + 0.008 x2 x9 + -0.003 x3^2 + -0.011 x3 x6 + 0.004 x3 x7 + 0.004 x3 x8 + 0.003 x3 x9\n",
      "x2' = 0.050 1 + -0.005 x0 + 0.007 x1 + 0.013 x2 + 0.007 x3 + -0.001 x4 + -0.001 x5 + 0.023 x6 + -0.005 x7 + -0.005 x8 + -0.034 x9 + -0.003 x0 x1 + -0.037 x0 x2 + -0.003 x0 x3 + 0.001 x0 x4 + 0.001 x0 x5 + 0.004 x1^2 + -0.063 x1 x2 + 0.004 x1 x3 + 0.006 x1 x6 + -0.003 x1 x7 + -0.003 x1 x8 + 0.051 x2^2 + -0.063 x2 x3 + 0.070 x2 x4 + 0.070 x2 x5 + -0.037 x2 x7 + -0.037 x2 x8 + 0.024 x2 x9 + 0.004 x3^2 + 0.006 x3 x6 + -0.003 x3 x7 + -0.003 x3 x8 + 0.001 x4 x6 + 0.001 x4 x7 + 0.001 x4 x8 + 0.001 x5 x6 + 0.001 x5 x7 + 0.001 x5 x8 + -0.008 x6 x9\n",
      "x3' = 0.050 1 + -0.001 x0 + 0.001 x1 + 0.004 x2 + 0.001 x3 + -0.013 x4 + -0.013 x5 + 0.014 x6 + -0.001 x7 + -0.001 x8 + 0.007 x9 + 0.004 x0 x1 + 0.004 x0 x3 + -0.003 x1^2 + -0.009 x1 x2 + -0.003 x1 x3 + -0.011 x1 x6 + 0.004 x1 x7 + 0.004 x1 x8 + 0.003 x1 x9 + 0.004 x2^2 + -0.009 x2 x3 + -0.002 x2 x6 + 0.008 x2 x9 + -0.003 x3^2 + -0.011 x3 x6 + 0.004 x3 x7 + 0.004 x3 x8 + 0.003 x3 x9\n",
      "x4' = 0.050 1 + 0.002 x0 + -0.003 x1 + 0.003 x2 + -0.003 x3 + -0.003 x6 + 0.002 x7 + 0.002 x8\n",
      "x5' = 0.050 1 + 0.002 x0 + -0.003 x1 + 0.003 x2 + -0.003 x3 + -0.003 x6 + 0.002 x7 + 0.002 x8\n",
      "x6' = 0.050 1 + -8.381 x0 + -139.272 x1 + 140.558 x2 + -141.845 x3 + 140.878 x4 + 140.239 x5 + 140.556 x6 + -206.656 x7 + -206.638 x8 + 140.558 x9 + 0.236 x0 x1 + -0.048 x0 x3 + -1778.703 x0 x4 + -1778.542 x0 x5 + -0.005 x1 x2 + -0.003 x1 x6 + -0.047 x1 x7 + -0.047 x1 x8 + 0.005 x2 x3 + 0.003 x3 x6 + -0.047 x3 x7 + -0.047 x3 x8 + 0.001 x4 x6 + -1778.542 x4 x7 + -1778.542 x4 x8 + -0.001 x5 x6 + 3517.805 x5 x7 + 3596.526 x5 x8\n",
      "x7' = 0.050 1 + 527.496 x0 + 8765.599 x1 + -8846.583 x2 + 8927.573 x3 + -8866.690 x4 + -8826.489 x5 + -8846.575 x6 + 13006.679 x7 + 13005.569 x8 + -8846.581 x9 + -14.866 x0 x1 + 3.000 x0 x3 + 111949.706 x0 x4 + 111939.573 x0 x5 + 0.285 x1 x2 + 0.184 x1 x6 + 2.970 x1 x7 + 2.970 x1 x8 + 0.001 x2^2 + -0.291 x2 x3 + -0.003 x2 x6 + 0.002 x2 x9 + -0.194 x3 x6 + 2.970 x3 x7 + 2.970 x3 x8 + -0.043 x4 x6 + 111939.576 x4 x7 + 111939.576 x4 x8 + 0.043 x5 x6 + -221406.908 x5 x7 + -226361.523 x5 x8 + -0.001 x6 x9\n",
      "x8' = 0.050 1 + 527.496 x0 + 8765.599 x1 + -8846.583 x2 + 8927.573 x3 + -8866.690 x4 + -8826.489 x5 + -8846.575 x6 + 13006.679 x7 + 13005.569 x8 + -8846.581 x9 + -14.866 x0 x1 + 3.000 x0 x3 + 111949.706 x0 x4 + 111939.573 x0 x5 + 0.285 x1 x2 + 0.184 x1 x6 + 2.970 x1 x7 + 2.970 x1 x8 + 0.001 x2^2 + -0.291 x2 x3 + -0.003 x2 x6 + 0.002 x2 x9 + -0.194 x3 x6 + 2.970 x3 x7 + 2.970 x3 x8 + -0.043 x4 x6 + 111939.576 x4 x7 + 111939.576 x4 x8 + 0.043 x5 x6 + -221406.908 x5 x7 + -226361.523 x5 x8 + -0.001 x6 x9\n",
      "x9' = 0.050 1 + -0.010 x0 + 0.014 x1 + -0.006 x2 + 0.014 x3 + -0.023 x4 + -0.023 x5 + 0.037 x6 + -0.010 x7 + -0.010 x8 + 0.013 x9 + 0.008 x0 x1 + 0.008 x0 x3 + 0.001 x0 x4 + 0.001 x0 x5 + 0.006 x1^2 + -0.011 x1 x2 + 0.006 x1 x3 + -0.013 x1 x6 + 0.008 x1 x7 + 0.008 x1 x8 + -0.016 x1 x9 + 0.003 x2^2 + -0.011 x2 x3 + -0.001 x2 x6 + 0.010 x2 x9 + 0.006 x3^2 + -0.013 x3 x6 + 0.008 x3 x7 + 0.008 x3 x8 + -0.016 x3 x9 + 0.001 x4 x6 + 0.001 x4 x7 + 0.001 x4 x8 + 0.001 x5 x6 + 0.001 x5 x7 + 0.001 x5 x8 + -0.007 x6 x9\n"
     ]
    }
   ],
   "source": [
    "import matplotlib.pyplot as plt\n",
    "from mpl_toolkits.mplot3d import Axes3D\n",
    "from scipy.integrate import odeint\n",
    "from sklearn.linear_model import Lasso\n",
    "\n",
    "import pysindy as ps\n",
    "\n",
    "stlsq_optimizer = ps.STLSQ(threshold=.0005, alpha=.5)\n",
    "\n",
    "model = ps.SINDy(optimizer=stlsq_optimizer)\n",
    "model.fit(data, t=1)\n",
    "model.print()"
   ]
  }
 ],
 "metadata": {
  "kernelspec": {
   "display_name": "Python 3",
   "language": "python",
   "name": "python3"
  },
  "language_info": {
   "codemirror_mode": {
    "name": "ipython",
    "version": 3
   },
   "file_extension": ".py",
   "mimetype": "text/x-python",
   "name": "python",
   "nbconvert_exporter": "python",
   "pygments_lexer": "ipython3",
   "version": "3.8.2"
  }
 },
 "nbformat": 4,
 "nbformat_minor": 4
}
