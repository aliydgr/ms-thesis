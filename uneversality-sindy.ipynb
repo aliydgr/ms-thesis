{
 "cells": [
  {
   "cell_type": "markdown",
   "metadata": {},
   "source": [
    "## 1. Graph"
   ]
  },
  {
   "cell_type": "code",
   "execution_count": 10,
   "metadata": {},
   "outputs": [],
   "source": [
    "import networkx as nx\n",
    "\n",
    "number_of_nodes = 10\n",
    "erdos_prob = .2\n",
    "\n",
    "graph = nx.erdos_renyi_graph(number_of_nodes, erdos_prob)\n",
    "matrix = nx.to_numpy_matrix(graph).A"
   ]
  },
  {
   "cell_type": "markdown",
   "metadata": {},
   "source": [
    "## 2.1. Dymanic Formulation"
   ]
  },
  {
   "cell_type": "code",
   "execution_count": 3,
   "metadata": {},
   "outputs": [],
   "source": [
    "def biochemical(n, x, adjecant, row_data):\n",
    "    F = .05\n",
    "    B = .002\n",
    "    R = .003\n",
    "    \n",
    "    sigma = 0\n",
    "    for j in range (0,n):\n",
    "        sigma = sigma + R*(adjecant[j])*x*row_data[j]\n",
    "    return x + (F - B*x - sigma)"
   ]
  },
  {
   "cell_type": "code",
   "execution_count": 4,
   "metadata": {},
   "outputs": [],
   "source": [
    "def birthdead(n, x, adjecant, row_data):\n",
    "    B = .02\n",
    "    R = .3\n",
    "    a = 1\n",
    "    b = 1\n",
    "    \n",
    "    sigma = 0\n",
    "    for j in range (0,n):\n",
    "        sigma = sigma + R*(adjecant[j])*pow(row_data[j],a)\n",
    "    return x + (-B*pow(x,b) + sigma)"
   ]
  },
  {
   "cell_type": "code",
   "execution_count": 5,
   "metadata": {},
   "outputs": [],
   "source": [
    "def epidemic(n, x, adjecant, row_data):\n",
    "    B = .02\n",
    "    R = .3\n",
    "    b = 1\n",
    "    \n",
    "    sigma = 0\n",
    "    for j in range (0,n):\n",
    "        sigma = sigma + R*(adjecant[j])*(1-x)*row_data[j]\n",
    "    return x + (-B*pow(x,b) + sigma)"
   ]
  },
  {
   "cell_type": "markdown",
   "metadata": {},
   "source": [
    "## 2.2. Generate Time-series"
   ]
  },
  {
   "cell_type": "code",
   "execution_count": 11,
   "metadata": {},
   "outputs": [],
   "source": [
    "import numpy as np\n",
    "\n",
    "number_of_times = 1000\n",
    "data = np.empty([number_of_times, number_of_nodes]) \n",
    "# todo: initial state?\n",
    "data.fill(.5)\n",
    "\n",
    "for t in range(0,number_of_times-1):\n",
    "    for i in range(0,number_of_nodes):\n",
    "        data[t+1,i] = biochemical(number_of_nodes, data[t,i], matrix[i], data[t])"
   ]
  },
  {
   "cell_type": "markdown",
   "metadata": {},
   "source": [
    "## 2.3. Correlation Matrix Disribution"
   ]
  },
  {
   "cell_type": "code",
   "execution_count": 116,
   "metadata": {},
   "outputs": [],
   "source": [
    "from math import ceil\n",
    "\n",
    "g = np.empty([number_of_times, number_of_nodes, number_of_nodes])\n",
    "tmp = np.empty((number_of_times-1)*ceil(number_of_nodes*(number_of_nodes-1)/2))\n",
    "index = 0\n",
    "for t in range(0,number_of_times-1):\n",
    "    for i in range(0,number_of_nodes):\n",
    "        for j in range(0,number_of_nodes):\n",
    "            # todo: devide by zero (steady state)?\n",
    "            g[t, i, j] = abs(((data[t+1, i] - data[t, i])/data[t, i])/((data[t+1, j] - data[t, j])/data[t, j]))\n",
    "            if i > j:\n",
    "                tmp[index] = min(g[t,i,j], 40)\n",
    "                index = index + 1"
   ]
  },
  {
   "cell_type": "code",
   "execution_count": 117,
   "metadata": {},
   "outputs": [
    {
     "data": {
      "image/png": "[encoded data removed]",
      "text/plain": [
       "<Figure size 432x288 with 1 Axes>"
      ]
     },
     "metadata": {
      "needs_background": "light"
     },
     "output_type": "display_data"
    }
   ],
   "source": [
    "import matplotlib.pyplot as plt\n",
    "n, bins, patches = plt.hist(tmp)\n",
    "plt.show()"
   ]
  },
  {
   "cell_type": "markdown",
   "metadata": {},
   "source": [
    "## 3. Fit SINDy"
   ]
  },
  {
   "cell_type": "code",
   "execution_count": 27,
   "metadata": {},
   "outputs": [
    {
     "name": "stdout",
     "output_type": "stream",
     "text": [
      "x0' = 0.049 1 + -3176.441 x0 + -15034.366 x1 + 12895.996 x2 + 270.709 x3 + -11729.519 x4 + 999.969 x5 + -436.797 x6 + 12895.917 x7 + 270.707 x8 + 3043.816 x9 + -6364.221 x0^2 + 2173.455 x0 x1 + 6956.254 x0 x2 + -7528.401 x0 x3 + 7721.905 x0 x4 + 7007.787 x0 x5 + -5835.178 x0 x6 + 6956.223 x0 x7 + -7506.002 x0 x8 + 1530.598 x1^2 + 3595.189 x1 x4 + -374.798 x1 x6 + -1530.960 x2 x3 + 756.638 x2 x4 + -82.163 x2 x6 + -1530.960 x2 x8 + 73.964 x3^2 + 3872.800 x3 x4 + -1591.297 x3 x7 + 43.976 x3 x8 + -2183.138 x4^2 + -490.305 x4 x6 + 756.660 x4 x7 + 3872.800 x4 x8 + -9576.474 x4 x9 + -82.155 x6 x7 + 814.820 x6 x9 + -1530.971 x7 x8 + 73.959 x8^2\n",
      "x1' = 0.054 1 + 26416.572 x0 + 6230.887 x1 + 17590.388 x2 + 15627.346 x3 + -37718.098 x4 + -3569.629 x5 + -6981.996 x6 + 17590.865 x7 + 15626.993 x8 + -50813.353 x9 + 3089.704 x0^2 + 2856.892 x0 x1 + 6143.084 x0 x4 + -7830.643 x0 x5 + 2000.204 x0 x6 + -4967.357 x0 x9 + -38.909 x1^2 + -1654.729 x1 x4 + -201.123 x1 x6 + -1333.262 x2^2 + -3335.821 x2 x3 + -6768.056 x2 x4 + 603.874 x2 x6 + -620.692 x2 x7 + -3033.049 x2 x8 + 5149.514 x2 x9 + -1468.592 x3^2 + 10767.430 x3 x4 + -3033.049 x3 x7 + -1468.597 x3 x8 + 997.013 x3 x9 + -6039.084 x4^2 + 3032.234 x4 x6 + -6594.475 x4 x7 + 10767.430 x4 x8 + 445.388 x6 x7 + 1572.343 x6 x9 + -623.260 x7^2 + -3033.049 x7 x8 + 5149.515 x7 x9 + -1528.158 x8^2 + 997.309 x8 x9\n",
      "x2' = 0.047 1 + -979.308 x0 + 119.454 x1 + -932.775 x2 + -484.108 x3 + 1610.055 x4 + 135.664 x5 + 187.212 x6 + -932.775 x7 + -484.108 x8 + 1760.690 x9 + -134.836 x0^2 + 477.055 x0 x1 + -107.451 x0 x4 + 147.418 x0 x5 + -207.041 x0 x6 + -97.253 x1^2 + 433.120 x1 x4 + 11.021 x1 x6 + -239.012 x2^2 + 177.381 x2 x3 + 765.334 x2 x4 + 58.784 x2 x6 + -240.610 x2 x7 + 176.567 x2 x8 + 46.704 x3^2 + -912.923 x3 x4 + 176.567 x3 x7 + 46.704 x3 x8 + 517.778 x4^2 + -376.981 x4 x6 + 765.335 x4 x7 + -912.923 x4 x8 + -663.792 x4 x9 + 58.784 x6 x7 + 51.601 x6 x9 + -240.607 x7^2 + 176.567 x7 x8 + 46.703 x8^2\n",
      "x3' = 0.050 1 + -247.021 x0 + 929.958 x1 + -967.934 x2 + -141.130 x3 + 1206.098 x4 + -200.115 x5 + 114.352 x6 + -967.934 x7 + -141.130 x8 + 414.853 x9 + 1.676 x0^2 + 17.316 x0 x1 + -62.957 x0 x4 + 55.271 x0 x5 + 2.413 x0 x6 + -146.155 x1^2 + -33.459 x1 x4 + 35.048 x1 x6 + 109.665 x2 x3 + 21.803 x2 x4 + 3.165 x2 x6 + 109.673 x2 x8 + 11.891 x3^2 + -168.032 x3 x4 + 109.674 x3 x7 + 11.886 x3 x8 + 94.678 x4^2 + -28.648 x4 x6 + 21.802 x4 x7 + -168.032 x4 x8 + -74.151 x4 x9 + 3.165 x6 x7 + -49.260 x6 x9 + 109.675 x7 x8 + 11.890 x8^2\n",
      "x4' = 0.049 1 + -134.498 x0 + -1984.443 x1 + 2436.278 x2 + 615.889 x3 + -2644.767 x4 + -243.783 x5 + -276.328 x6 + 2436.280 x7 + 615.889 x8 + -820.522 x9 + 98.870 x0^2 + 446.109 x0 x1 + -230.293 x0 x2 + 948.415 x0 x4 + -180.632 x0 x5 + -80.586 x0 x6 + -230.292 x0 x7 + 267.051 x1^2 + -321.134 x1 x4 + -43.093 x1 x6 + -289.199 x2 x3 + -72.215 x2 x4 + -27.923 x2 x6 + -289.199 x2 x8 + -64.772 x3^2 + 898.747 x3 x4 + -289.199 x3 x7 + -64.771 x3 x8 + -946.875 x4^2 + 267.413 x4 x6 + -72.215 x4 x7 + 898.747 x4 x8 + -465.771 x4 x9 + -27.924 x6 x7 + 224.716 x6 x9 + -289.198 x7 x8 + -64.772 x8^2\n",
      "x5' = 0.050 1 + -123.690 x0 + 465.568 x1 + -484.593 x2 + -70.656 x3 + 603.834 x4 + -100.181 x5 + 57.245 x6 + -484.593 x7 + -70.656 x8 + 207.718 x9 + 0.878 x0^2 + 8.694 x0 x1 + -31.524 x0 x4 + 27.615 x0 x5 + 1.232 x0 x6 + -73.166 x1^2 + -16.787 x1 x4 + 17.544 x1 x6 + 54.903 x2 x3 + 10.878 x2 x4 + 1.587 x2 x6 + 54.907 x2 x8 + 5.955 x3^2 + -84.097 x3 x4 + 54.907 x3 x7 + 5.953 x3 x8 + 47.392 x4^2 + -14.327 x4 x6 + 10.878 x4 x7 + -84.097 x4 x8 + -37.108 x4 x9 + 1.587 x6 x7 + -24.666 x6 x9 + 54.908 x7 x8 + 5.955 x8^2\n",
      "x6' = 0.050 1 + 0.803 x0 + -2.811 x1 + 2.612 x2 + 0.164 x3 + -3.260 x4 + 0.846 x5 + -0.247 x6 + 2.612 x7 + 0.164 x8 + -0.886 x9 + -0.306 x0^2 + -0.272 x0 x1 + 0.179 x0 x4 + 0.216 x0 x5 + -0.158 x0 x6 + 0.387 x1^2 + 0.529 x1 x4 + -0.092 x1 x6 + -0.273 x2 x3 + 0.289 x2 x4 + -0.026 x2 x6 + -0.273 x2 x8 + -0.028 x3^2 + 0.127 x3 x4 + -0.273 x3 x7 + -0.028 x3 x8 + -0.104 x4^2 + -0.101 x4 x6 + 0.289 x4 x7 + 0.127 x4 x8 + -0.026 x6 x7 + 0.116 x6 x9 + -0.273 x7 x8 + -0.028 x8^2\n",
      "x7' = 0.047 1 + -979.308 x0 + 119.454 x1 + -932.775 x2 + -484.108 x3 + 1610.055 x4 + 135.664 x5 + 187.212 x6 + -932.775 x7 + -484.108 x8 + 1760.690 x9 + -134.836 x0^2 + 477.055 x0 x1 + -107.451 x0 x4 + 147.418 x0 x5 + -207.041 x0 x6 + -97.253 x1^2 + 433.120 x1 x4 + 11.021 x1 x6 + -239.012 x2^2 + 177.381 x2 x3 + 765.334 x2 x4 + 58.784 x2 x6 + -240.610 x2 x7 + 176.567 x2 x8 + 46.704 x3^2 + -912.923 x3 x4 + 176.567 x3 x7 + 46.704 x3 x8 + 517.778 x4^2 + -376.981 x4 x6 + 765.335 x4 x7 + -912.923 x4 x8 + -663.792 x4 x9 + 58.784 x6 x7 + 51.601 x6 x9 + -240.607 x7^2 + 176.567 x7 x8 + 46.703 x8^2\n",
      "x8' = 0.050 1 + -247.021 x0 + 929.958 x1 + -967.934 x2 + -141.130 x3 + 1206.098 x4 + -200.115 x5 + 114.352 x6 + -967.934 x7 + -141.130 x8 + 414.853 x9 + 1.676 x0^2 + 17.316 x0 x1 + -62.957 x0 x4 + 55.271 x0 x5 + 2.413 x0 x6 + -146.155 x1^2 + -33.459 x1 x4 + 35.048 x1 x6 + 109.665 x2 x3 + 21.803 x2 x4 + 3.165 x2 x6 + 109.673 x2 x8 + 11.891 x3^2 + -168.032 x3 x4 + 109.674 x3 x7 + 11.886 x3 x8 + 94.678 x4^2 + -28.648 x4 x6 + 21.802 x4 x7 + -168.032 x4 x8 + -74.151 x4 x9 + 3.165 x6 x7 + -49.260 x6 x9 + 109.675 x7 x8 + 11.890 x8^2\n",
      "x9' = 0.065 1 + -16786.086 x0 + -68764.667 x1 + 53842.243 x2 + 2510.578 x3 + -49377.545 x4 + 11069.712 x5 + -4234.915 x6 + 53844.386 x7 + 2509.094 x8 + 15387.144 x9 + 6415.695 x0^2 + 2698.884 x0 x1 + 15419.899 x0 x4 + -5487.455 x0 x5 + 2521.426 x0 x6 + 9400.838 x1^2 + -23522.956 x1 x4 + -1957.272 x1 x6 + -485.630 x2^2 + -3718.324 x2 x3 + -20305.965 x2 x4 + -5432.203 x2 x5 + 1955.283 x2 x6 + -364.707 x2 x7 + -2819.938 x2 x8 + 1114.835 x2 x9 + 558.878 x3^2 + 29482.969 x3 x4 + -2810.216 x3 x7 + 558.978 x3 x8 + -5073.783 x3 x9 + -24832.213 x4^2 + 13286.442 x4 x6 + -19561.959 x4 x7 + 29448.997 x4 x8 + 13678.436 x4 x9 + -5129.682 x5 x7 + 2338.787 x6 x7 + -4.148 x6 x9 + -485.630 x7^2 + -2810.249 x7 x8 + 2047.685 x7 x9 + 297.324 x8^2 + -6422.985 x8 x9\n"
     ]
    }
   ],
   "source": [
    "import matplotlib.pyplot as plt\n",
    "from mpl_toolkits.mplot3d import Axes3D\n",
    "from scipy.integrate import odeint\n",
    "from sklearn.linear_model import Lasso\n",
    "\n",
    "import pysindy as ps\n",
    "\n",
    "stlsq_optimizer = ps.STLSQ(threshold=.0005, alpha=.5)\n",
    "\n",
    "model = ps.SINDy(optimizer=stlsq_optimizer)\n",
    "model.fit(data, t=1)\n",
    "model.print()"
   ]
  }
 ],
 "metadata": {
  "kernelspec": {
   "display_name": "Python 3",
   "language": "python",
   "name": "python3"
  },
  "language_info": {
   "codemirror_mode": {
    "name": "ipython",
    "version": 3
   },
   "file_extension": ".py",
   "mimetype": "text/x-python",
   "name": "python",
   "nbconvert_exporter": "python",
   "pygments_lexer": "ipython3",
   "version": "3.6.9"
  }
 },
 "nbformat": 4,
 "nbformat_minor": 4
}
