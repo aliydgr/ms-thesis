{
 "cells": [
  {
   "cell_type": "markdown",
   "metadata": {},
   "source": [
    "## 1. Graph"
   ]
  },
  {
   "cell_type": "code",
   "execution_count": null,
   "metadata": {},
   "outputs": [],
   "source": [
    "import networkx as nx\n",
    "\n",
    "number_of_nodes = 10\n",
    "erdos_prob = .2\n",
    "\n",
    "graph = nx.erdos_renyi_graph(number_of_nodes, erdos_prob)\n",
    "matrix = nx.to_numpy_matrix(graph).A"
   ]
  },
  {
   "cell_type": "markdown",
   "metadata": {},
   "source": [
    "## 2.1. Dymanic Formulation"
   ]
  },
  {
   "cell_type": "code",
   "execution_count": null,
   "metadata": {},
   "outputs": [],
   "source": [
    "def biochemical(n, x, adjecant, row_data):\n",
    "    F = .05\n",
    "    B = .002\n",
    "    R = .003\n",
    "    \n",
    "    sigma = 0\n",
    "    for j in range (0,n):\n",
    "        sigma = sigma + R*(adjecant[j])*x*row_data[j]\n",
    "    return (F - B*x - sigma)\n"
   ]
  },
  {
   "cell_type": "code",
   "execution_count": null,
   "metadata": {},
   "outputs": [],
   "source": [
    "def birthdead(n, x, adjecant, row_data):\n",
    "    B = .02\n",
    "    R = .3\n",
    "    a = 1\n",
    "    b = 1\n",
    "    \n",
    "    sigma = 0\n",
    "    for j in range (0,n):\n",
    "        sigma = sigma + R*(adjecant[j])*pow(row_data[j],a)\n",
    "    return (-B*pow(x,b) + sigma)"
   ]
  },
  {
   "cell_type": "code",
   "execution_count": null,
   "metadata": {},
   "outputs": [],
   "source": [
    "def epidemic(n, x, adjecant, row_data):\n",
    "    B = .02\n",
    "    R = .3\n",
    "    b = 1\n",
    "    \n",
    "    sigma = 0\n",
    "    for j in range (0,n):\n",
    "        sigma = sigma + R*(adjecant[j])*(1-x)*row_data[j]\n",
    "    return (-B*pow(x,b) + sigma)"
   ]
  },
  {
   "cell_type": "markdown",
   "metadata": {},
   "source": [
    "## 2.2. Generate Time-series"
   ]
  },
  {
   "cell_type": "code",
   "execution_count": null,
   "metadata": {},
   "outputs": [],
   "source": [
    "import numpy as np\n",
    "\n",
    "number_of_times = 1000\n",
    "data = np.empty([number_of_times, number_of_nodes]) \n",
    "# todo: initial state?\n",
    "data.fill(.5)\n",
    "\n",
    "for t in range(0,number_of_times-1):\n",
    "    for i in range(0,number_of_nodes):\n",
    "        sigma = 0\n",
    "        data[t+1,i] = biochemical(number_of_nodes, data[t,i], matrix[i], data[t])"
   ]
  },
  {
   "cell_type": "markdown",
   "metadata": {},
   "source": [
    "## 3. Fit SINDy"
   ]
  },
  {
   "cell_type": "code",
   "execution_count": null,
   "metadata": {},
   "outputs": [],
   "source": [
    "import matplotlib.pyplot as plt\n",
    "from mpl_toolkits.mplot3d import Axes3D\n",
    "from scipy.integrate import odeint\n",
    "from sklearn.linear_model import Lasso\n",
    "\n",
    "import pysindy as ps\n",
    "\n",
    "stlsq_optimizer = ps.STLSQ(threshold=.005, alpha=.5)\n",
    "\n",
    "model = ps.SINDy(optimizer=stlsq_optimizer)\n",
    "model.fit(data, t=1)\n",
    "model.print()"
   ]
  }
 ],
 "metadata": {
  "kernelspec": {
   "display_name": "Python 3",
   "language": "python",
   "name": "python3"
  },
  "language_info": {
   "codemirror_mode": {
    "name": "ipython",
    "version": 3
   },
   "file_extension": ".py",
   "mimetype": "text/x-python",
   "name": "python",
   "nbconvert_exporter": "python",
   "pygments_lexer": "ipython3",
   "version": "3.8.2"
  }
 },
 "nbformat": 4,
 "nbformat_minor": 4
}
