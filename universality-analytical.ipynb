{
 "cells": [
  {
   "cell_type": "markdown",
   "metadata": {},
   "source": [
    "# Introduction\n",
    "In this notebook, we are going to calculate universality parameter by analytical manner using mathematical formula represented by barzel. The calculation contains these steps:\n",
    "1. Generate complex network (graph + dynamic)\n",
    "2. Estiamte steady state\n",
    "3. Calculate local correlation matrix (R)\n",
    "4. Calculate correlation matrix (G) by solving leanire equations system"
   ]
  },
  {
   "cell_type": "markdown",
   "metadata": {},
   "source": [
    "# Calculation"
   ]
  },
  {
   "cell_type": "code",
   "execution_count": 1,
   "metadata": {},
   "outputs": [],
   "source": [
    "from libs.factory import *\n",
    "from libs.util import *\n",
    "import networkx as nx\n",
    "import numpy as np\n",
    "from sympy import symbols, solve_poly_system\n",
    "import matplotlib.pyplot as plt"
   ]
  },
  {
   "cell_type": "code",
   "execution_count": 23,
   "metadata": {},
   "outputs": [
    {
     "name": "stdout",
     "output_type": "stream",
     "text": [
      "[(0, 3), (1, 7), (2, 4), (3, 4), (4, 5), (5, 5), (6, 4), (7, 3), (8, 3), (9, 2)]\n"
     ]
    },
    {
     "data": {
      "image/png": "[encoded data removed]",
      "text/plain": [
       "<Figure size 144x144 with 1 Axes>"
      ]
     },
     "metadata": {},
     "output_type": "display_data"
    }
   ],
   "source": [
    "seed = 1234\n",
    "number_of_nodes = 10\n",
    "\n",
    "np.random.seed(seed)\n",
    "graph = get_graph(number_of_nodes, 'small_world', seed=seed)\n",
    "adjacency = nx.to_numpy_matrix(graph).A\n",
    "\n",
    "print(graph.degree)\n",
    "plt.rcParams[\"figure.figsize\"] = (2,2)\n",
    "nx.draw(graph, with_labels=True, font_color='white')\n",
    "plt.show()"
   ]
  },
  {
   "cell_type": "markdown",
   "metadata": {},
   "source": [
    "## Biochemical Dynamic"
   ]
  },
  {
   "cell_type": "code",
   "execution_count": 24,
   "metadata": {},
   "outputs": [
    {
     "name": "stdout",
     "output_type": "stream",
     "text": [
      "steady_state: [0.4166666666666667, 0.7954545454545455, 0.5263157894736842, 0.5263157894736842, 0.625, 0.625, 0.5263157894736842, 0.4166666666666667, 0.4166666666666667, 0.29411764705882354]\n"
     ]
    }
   ],
   "source": [
    "F = .5\n",
    "B = .2\n",
    "R = 3\n",
    "\n",
    "steady = [F/(R/graph.degree(i) + B) for i in range(0,number_of_nodes)]\n",
    "print('steady_state:', steady)"
   ]
  },
  {
   "cell_type": "code",
   "execution_count": 25,
   "metadata": {},
   "outputs": [
    {
     "name": "stdout",
     "output_type": "stream",
     "text": [
      "R: [[0.         0.23504274 0.         0.         0.2991453  0.2991453\n",
      "  0.         0.         0.         0.        ]\n",
      " [0.11523688 0.         0.09122919 0.09122919 0.07682458 0.07682458\n",
      "  0.         0.11523688 0.11523688 0.        ]\n",
      " [0.         0.15612064 0.         0.         0.19869899 0.19869899\n",
      "  0.23595506 0.         0.         0.        ]\n",
      " [0.         0.13867003 0.         0.         0.         0.17648913\n",
      "  0.20958084 0.26473369 0.         0.        ]\n",
      " [0.15849057 0.08301887 0.1254717  0.         0.         0.\n",
      "  0.         0.         0.15849057 0.2245283 ]\n",
      " [0.19236641 0.10076336 0.15229008 0.15229008 0.         0.\n",
      "  0.15229008 0.         0.         0.        ]\n",
      " [0.         0.         0.17045455 0.17045455 0.         0.14354067\n",
      "  0.         0.         0.         0.30502392]\n",
      " [0.         0.18851757 0.         0.28491859 0.         0.\n",
      "  0.         0.         0.35989717 0.        ]\n",
      " [0.         0.19927536 0.         0.         0.25362319 0.\n",
      "  0.         0.38043478 0.         0.        ]\n",
      " [0.         0.         0.         0.         0.40336134 0.\n",
      "  0.4789916  0.         0.         0.        ]]\n"
     ]
    }
   ],
   "source": [
    "def q_bar_prime_i(i, j):\n",
    "    return -F/(R*steady[i]*steady[i]*steady[j])\n",
    "    \n",
    "def q_bar_prime_j(i, j):\n",
    "    return -(F-B*steady[i])/(R*steady[j]*steady[j]*steady[i])\n",
    "\n",
    "\n",
    "def r_i_j(i,j):\n",
    "    if adjacency[i,j] == 0:\n",
    "        return 0\n",
    "    \n",
    "    sum = 0\n",
    "    for k in range(0,number_of_nodes):\n",
    "        if adjacency[i,k] == 1:\n",
    "            sum = sum + q_bar_prime_i(i,k)\n",
    "    \n",
    "    return steady[j]*q_bar_prime_j(i,j)/(steady[i]*sum)\n",
    "\n",
    "\n",
    "r = np.array([[r_i_j(i,j) for j in range(0,number_of_nodes)] for i in range(0,number_of_nodes)])\n",
    "print('R:', r)"
   ]
  },
  {
   "cell_type": "code",
   "execution_count": 32,
   "metadata": {},
   "outputs": [],
   "source": [
    "def _g(i, j):\n",
    "    if i == j:\n",
    "        return syms[i][j] - 1\n",
    "    \n",
    "    eq = syms[i][j]\n",
    "    for q in range(0,number_of_nodes):\n",
    "        eq = eq - r[i,q]*syms[q][j]\n",
    "    return eq"
   ]
  },
  {
   "cell_type": "code",
   "execution_count": 33,
   "metadata": {},
   "outputs": [
    {
     "name": "stdout",
     "output_type": "stream",
     "text": [
      "G: [(1.00000000000000, 0.225028893681966, 0.182262177085761, 0.153535964206839, 0.267584229064921, 0.289675405568997, 0.154281895446081, 0.146834778116610, 0.168569336555422, 0.181832865844898, 0.429620432767838, 1.00000000000000, 0.342863683633310, 0.368851369906722, 0.321538643850314, 0.328906802830746, 0.243691275536569, 0.457289153448801, 0.454793718049442, 0.246422332860500, 0.216905555927619, 0.213721870473796, 1.00000000000000, 0.190761185466515, 0.263057595823745, 0.294102364333456, 0.325041372330608, 0.155235454583562, 0.168363975778967, 0.261799351448608, 0.194596183212565, 0.244866263743281, 0.203160880733738, 1.00000000000000, 0.165075305116664, 0.293037014395618, 0.313219589815533, 0.421407465673084, 0.250980796230873, 0.216614548446093, 0.437033155292963, 0.275068212311652, 0.361019446636131, 0.212721694576935, 1.00000000000000, 0.244814380877322, 0.299770035680805, 0.258919995781489, 0.406939678384772, 0.546948672552991, 0.424066391591361, 0.252201952271805, 0.361781724139475, 0.338470259906442, 0.219434689391846, 1.00000000000000, 0.339502567630164, 0.210985795487485, 0.186177696226683, 0.251130348283428, 0.213323831514640, 0.176489042770916, 0.377649513635272, 0.341703265395551, 0.253780796930932, 0.320660334812290, 1.00000000000000, 0.192856541411901, 0.172903949223968, 0.581356960106594, 0.158916646955590, 0.259229677165656, 0.141174824571462, 0.359847500186769, 0.171574278258246, 0.155980909505995, 0.150956016265221, 1.00000000000000, 0.475608085949958, 0.141513094819440, 0.179425688475813, 0.253555980124446, 0.150584785146813, 0.210776573179568, 0.265205306038878, 0.135366582482487, 0.133102602474254, 0.467751093581478, 1.00000000000000, 0.170728596898308, 0.168478917241795, 0.119593231394180, 0.203829773848094, 0.158356758650422, 0.310288642466628, 0.158946199074801, 0.389575508098104, 0.121151653591932, 0.148618682342379, 1.00000000000000)]\n"
     ]
    }
   ],
   "source": [
    "syms = [[symbols('{}_{}'.format(i,j)) for i in range(0,number_of_nodes)] for j in range(number_of_nodes)]\n",
    "eq_system = [_g(int(cnt/number_of_nodes),cnt%number_of_nodes) for cnt in range(0,number_of_nodes*number_of_nodes)]\n",
    "                        \n",
    "g = solve_poly_system(eq_system)\n",
    "print('G:', g)"
   ]
  },
  {
   "cell_type": "code",
   "execution_count": 34,
   "metadata": {},
   "outputs": [
    {
     "data": {
      "image/png": "[encoded data removed]",
      "text/plain": [
       "<Figure size 432x288 with 1 Axes>"
      ]
     },
     "metadata": {
      "needs_background": "light"
     },
     "output_type": "display_data"
    }
   ],
   "source": [
    "plot_g([abs(float(f)) for f in list(g[0])])"
   ]
  },
  {
   "cell_type": "code",
   "execution_count": null,
   "metadata": {},
   "outputs": [],
   "source": []
  }
 ],
 "metadata": {
  "kernelspec": {
   "display_name": "Python 3 (ipykernel)",
   "language": "python",
   "name": "python3"
  },
  "language_info": {
   "codemirror_mode": {
    "name": "ipython",
    "version": 3
   },
   "file_extension": ".py",
   "mimetype": "text/x-python",
   "name": "python",
   "nbconvert_exporter": "python",
   "pygments_lexer": "ipython3",
   "version": "3.8.10"
  }
 },
 "nbformat": 4,
 "nbformat_minor": 4
}
